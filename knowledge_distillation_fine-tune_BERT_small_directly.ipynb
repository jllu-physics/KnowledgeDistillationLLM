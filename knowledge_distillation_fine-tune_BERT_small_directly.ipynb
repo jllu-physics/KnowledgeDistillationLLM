{
 "cells": [
  {
   "cell_type": "code",
   "execution_count": 1,
   "id": "f8e42076-c338-479b-baa0-1f01c2282632",
   "metadata": {},
   "outputs": [],
   "source": [
    "from datasets import load_dataset\n",
    "import numpy as np\n",
    "from transformers import AutoTokenizer\n",
    "import format_yelp\n",
    "from torch.utils.data import DataLoader\n",
    "from transformers import AutoModelForSequenceClassification\n",
    "import evaluate\n",
    "from torch.optim import AdamW\n",
    "from transformers import get_scheduler\n",
    "import torch\n",
    "from tqdm.auto import tqdm"
   ]
  },
  {
   "cell_type": "code",
   "execution_count": 2,
   "id": "61972dda-77dc-4cbd-a411-dd029e612b9d",
   "metadata": {},
   "outputs": [],
   "source": [
    "random_seed = 42\n",
    "labelled_size = 10000\n",
    "valid_size = 1000\n",
    "batch_size = 16\n",
    "num_epochs = 20\n",
    "nstep_eval = 100"
   ]
  },
  {
   "cell_type": "code",
   "execution_count": 3,
   "id": "de244335-1063-4d20-8789-c75e16b8fba4",
   "metadata": {},
   "outputs": [],
   "source": [
    "dataset = load_dataset(\"yelp_review_full\")"
   ]
  },
  {
   "cell_type": "code",
   "execution_count": 4,
   "id": "134a1fe2-803e-4480-a0c5-49f9eac71e0f",
   "metadata": {},
   "outputs": [],
   "source": [
    "N = len(dataset['train']['label'])"
   ]
  },
  {
   "cell_type": "code",
   "execution_count": 5,
   "id": "ab172a73-ff9c-49eb-8949-42db0661ead2",
   "metadata": {},
   "outputs": [],
   "source": [
    "shuffled_dataset = dataset['train'].shuffle(random_seed)\n",
    "labelled_dataset = shuffled_dataset.select(range(labelled_size))\n",
    "unlabelled_dataset = shuffled_dataset.select(range(labelled_size,N-valid_size))\n",
    "valid_dataset = shuffled_dataset.select(range(N-valid_size,N))"
   ]
  },
  {
   "cell_type": "code",
   "execution_count": 6,
   "id": "a04ac695-507b-4329-b256-14c8d1870e96",
   "metadata": {},
   "outputs": [
    {
     "name": "stderr",
     "output_type": "stream",
     "text": [
      "Some weights of BertForSequenceClassification were not initialized from the model checkpoint at prajjwal1/bert-small and are newly initialized: ['classifier.weight', 'classifier.bias']\n",
      "You should probably TRAIN this model on a down-stream task to be able to use it for predictions and inference.\n"
     ]
    }
   ],
   "source": [
    "tokenizer = AutoTokenizer.from_pretrained(\"prajjwal1/bert-small\")\n",
    "model = AutoModelForSequenceClassification.from_pretrained(\"prajjwal1/bert-small\", num_labels=5)\n",
    "max_len = model.config.max_position_embeddings\n",
    "\n",
    "def tokenize_dataset(dataset, max_len):\n",
    "    return tokenizer(format_yelp.format_dataset(dataset[\"text\"]), padding=\"max_length\", truncation=True, max_length = max_len)"
   ]
  },
  {
   "cell_type": "code",
   "execution_count": 7,
   "id": "85e48bdf-4ce2-41b5-9966-1f3a7d9db732",
   "metadata": {},
   "outputs": [],
   "source": [
    "def prepare_dataset(dataset, max_len):\n",
    "    result = dataset.map(tokenize_dataset, batched = True, fn_kwargs = {'max_len':max_len})\n",
    "    result = result.remove_columns([\"text\"])\n",
    "    result = result.rename_column(\"label\", \"labels\")\n",
    "    result.set_format(\"torch\")\n",
    "    return result"
   ]
  },
  {
   "cell_type": "code",
   "execution_count": 8,
   "id": "73243e65-cca6-461f-a5ca-9bd59b3ad095",
   "metadata": {},
   "outputs": [],
   "source": [
    "tk_labelled_dataset = prepare_dataset(labelled_dataset, max_len)\n",
    "tk_valid_dataset = prepare_dataset(valid_dataset, max_len)"
   ]
  },
  {
   "cell_type": "code",
   "execution_count": 9,
   "id": "54764453-346c-4dad-b292-588492cd3091",
   "metadata": {},
   "outputs": [],
   "source": [
    "train_dataloader = DataLoader(tk_labelled_dataset, shuffle=True, batch_size=batch_size)\n",
    "eval_dataloader = DataLoader(tk_valid_dataset, batch_size=batch_size)"
   ]
  },
  {
   "cell_type": "code",
   "execution_count": 10,
   "id": "d1f54429-1604-48e5-a827-09b36160b7d0",
   "metadata": {},
   "outputs": [
    {
     "data": {
      "text/plain": [
       "BertForSequenceClassification(\n",
       "  (bert): BertModel(\n",
       "    (embeddings): BertEmbeddings(\n",
       "      (word_embeddings): Embedding(30522, 512, padding_idx=0)\n",
       "      (position_embeddings): Embedding(512, 512)\n",
       "      (token_type_embeddings): Embedding(2, 512)\n",
       "      (LayerNorm): LayerNorm((512,), eps=1e-12, elementwise_affine=True)\n",
       "      (dropout): Dropout(p=0.1, inplace=False)\n",
       "    )\n",
       "    (encoder): BertEncoder(\n",
       "      (layer): ModuleList(\n",
       "        (0-3): 4 x BertLayer(\n",
       "          (attention): BertAttention(\n",
       "            (self): BertSelfAttention(\n",
       "              (query): Linear(in_features=512, out_features=512, bias=True)\n",
       "              (key): Linear(in_features=512, out_features=512, bias=True)\n",
       "              (value): Linear(in_features=512, out_features=512, bias=True)\n",
       "              (dropout): Dropout(p=0.1, inplace=False)\n",
       "            )\n",
       "            (output): BertSelfOutput(\n",
       "              (dense): Linear(in_features=512, out_features=512, bias=True)\n",
       "              (LayerNorm): LayerNorm((512,), eps=1e-12, elementwise_affine=True)\n",
       "              (dropout): Dropout(p=0.1, inplace=False)\n",
       "            )\n",
       "          )\n",
       "          (intermediate): BertIntermediate(\n",
       "            (dense): Linear(in_features=512, out_features=2048, bias=True)\n",
       "            (intermediate_act_fn): GELUActivation()\n",
       "          )\n",
       "          (output): BertOutput(\n",
       "            (dense): Linear(in_features=2048, out_features=512, bias=True)\n",
       "            (LayerNorm): LayerNorm((512,), eps=1e-12, elementwise_affine=True)\n",
       "            (dropout): Dropout(p=0.1, inplace=False)\n",
       "          )\n",
       "        )\n",
       "      )\n",
       "    )\n",
       "    (pooler): BertPooler(\n",
       "      (dense): Linear(in_features=512, out_features=512, bias=True)\n",
       "      (activation): Tanh()\n",
       "    )\n",
       "  )\n",
       "  (dropout): Dropout(p=0.1, inplace=False)\n",
       "  (classifier): Linear(in_features=512, out_features=5, bias=True)\n",
       ")"
      ]
     },
     "execution_count": 10,
     "metadata": {},
     "output_type": "execute_result"
    }
   ],
   "source": [
    "optimizer = AdamW(model.parameters(), lr=2e-5)\n",
    "\n",
    "\n",
    "num_training_steps = num_epochs * len(train_dataloader)\n",
    "lr_scheduler = get_scheduler(\n",
    "    name=\"linear\", optimizer=optimizer, num_warmup_steps=num_training_steps//10, num_training_steps=num_training_steps\n",
    ")\n",
    "\n",
    "\n",
    "device = torch.device(\"cuda\") if torch.cuda.is_available() else torch.device(\"cpu\")\n",
    "model.to(device)"
   ]
  },
  {
   "cell_type": "code",
   "execution_count": 11,
   "id": "47f5597a-a852-41a7-a0d5-f5aefaaaa62e",
   "metadata": {},
   "outputs": [
    {
     "data": {
      "application/vnd.jupyter.widget-view+json": {
       "model_id": "b17c20715bc846029f343f95b07a67ed",
       "version_major": 2,
       "version_minor": 0
      },
      "text/plain": [
       "  0%|          | 0/12500 [00:00<?, ?it/s]"
      ]
     },
     "metadata": {},
     "output_type": "display_data"
    },
    {
     "name": "stdout",
     "output_type": "stream",
     "text": [
      "0.22\n",
      "0.335\n",
      "0.382\n",
      "0.417\n",
      "0.465\n",
      "0.513\n",
      "0.536\n",
      "0.543\n",
      "0.553\n",
      "0.556\n",
      "0.581\n",
      "0.588\n"
     ]
    }
   ],
   "source": [
    "progress_bar = tqdm(range(num_training_steps))\n",
    "\n",
    "#model.train()\n",
    "best_acc = 0\n",
    "accs = []\n",
    "step = 0\n",
    "metric = evaluate.load(\"accuracy\")\n",
    "model.train()\n",
    "for epoch in range(num_epochs):\n",
    "    for batch in train_dataloader:\n",
    "        #model.train()\n",
    "        batch = {k: v.to(device) for k, v in batch.items()}\n",
    "        outputs = model(**batch)\n",
    "        loss = outputs.loss\n",
    "        loss.backward()\n",
    "        optimizer.step()\n",
    "        lr_scheduler.step()\n",
    "        optimizer.zero_grad()\n",
    "            \n",
    "        progress_bar.update(1)\n",
    "        step += 1\n",
    "        if step == 100:\n",
    "            model.eval()\n",
    "            \n",
    "            for batch in eval_dataloader:\n",
    "                batch = {k: v.to(device) for k, v in batch.items()}\n",
    "                with torch.no_grad():\n",
    "                    outputs = model(**batch)\n",
    "            \n",
    "                logits = outputs.logits\n",
    "                predictions = torch.argmax(logits, dim=-1)\n",
    "                metric.add_batch(predictions=predictions, references=batch[\"labels\"])\n",
    "            \n",
    "            acc = metric.compute()['accuracy']\n",
    "            accs.append(acc)\n",
    "            if acc > best_acc:\n",
    "                best_acc = acc\n",
    "                torch.save(model.state_dict(), './distill_checkpoint_small_from_scratch',_use_new_zipfile_serialization=False)\n",
    "                print(best_acc)\n",
    "            model.train()\n",
    "            step = 0"
   ]
  },
  {
   "cell_type": "code",
   "execution_count": 12,
   "id": "05def994-373d-45c9-af1a-81ce8dbe78d9",
   "metadata": {},
   "outputs": [
    {
     "data": {
      "application/vnd.jupyter.widget-view+json": {
       "model_id": "c02cea1b047c4fb4a7b345fb66c893ab",
       "version_major": 2,
       "version_minor": 0
      },
      "text/plain": [
       "Map:   0%|          | 0/50000 [00:00<?, ? examples/s]"
      ]
     },
     "metadata": {},
     "output_type": "display_data"
    }
   ],
   "source": [
    "tk_test_dataset = prepare_dataset(dataset['test'], max_len = max_len)\n",
    "test_dataloader = DataLoader(tk_test_dataset, batch_size=16*batch_size)"
   ]
  },
  {
   "cell_type": "code",
   "execution_count": 13,
   "id": "9939f947-5b4b-4ab1-82a8-ab30f9ec5a63",
   "metadata": {},
   "outputs": [
    {
     "data": {
      "application/vnd.jupyter.widget-view+json": {
       "model_id": "a116f333fe6b48e49a8b05340f8822ed",
       "version_major": 2,
       "version_minor": 0
      },
      "text/plain": [
       "  0%|          | 0/196 [00:00<?, ?it/s]"
      ]
     },
     "metadata": {},
     "output_type": "display_data"
    }
   ],
   "source": [
    "device = torch.device(\"cuda\") if torch.cuda.is_available() else torch.device(\"cpu\")\n",
    "model.load_state_dict(torch.load('./distill_checkpoint_small_from_scratch'), strict = True)\n",
    "model.to(device)\n",
    "model.eval()\n",
    "metric = evaluate.load(\"accuracy\")\n",
    "model_predictions = []\n",
    "model_logits = []\n",
    "for batch in tqdm(test_dataloader):\n",
    "    batch = {k: v.to(device) for k, v in batch.items()}\n",
    "    with torch.no_grad():\n",
    "        outputs = model(input_ids = batch['input_ids'], token_type_ids = batch['token_type_ids'], attention_mask = batch['attention_mask'])\n",
    "            \n",
    "        logits = outputs.logits\n",
    "        predictions = torch.argmax(logits, dim=-1)\n",
    "        model_predictions.append(predictions.cpu().numpy())\n",
    "        model_logits.append(logits.cpu().numpy())\n",
    "        metric.add_batch(predictions=predictions, references=batch[\"labels\"])\n",
    "            \n",
    "acc = metric.compute()['accuracy']"
   ]
  },
  {
   "cell_type": "code",
   "execution_count": 14,
   "id": "34edb258-d474-42cb-8514-a3add50ad73c",
   "metadata": {},
   "outputs": [
    {
     "data": {
      "text/plain": [
       "0.59"
      ]
     },
     "execution_count": 14,
     "metadata": {},
     "output_type": "execute_result"
    }
   ],
   "source": [
    "acc"
   ]
  },
  {
   "cell_type": "code",
   "execution_count": 15,
   "id": "b4ea7bc7-9994-4308-9c45-8b47b8185371",
   "metadata": {},
   "outputs": [],
   "source": [
    "def binary_accuracy(logits, labels):\n",
    "    label_array = np.array(labels)\n",
    "    binary_index = np.where(label_array != 2)\n",
    "    probs = np.exp(logits[binary_index])\n",
    "    probs[:,2] = 0\n",
    "    probs /= probs.sum(axis=1, keepdims=True)\n",
    "    binary_pred = (probs[:,3] + probs[:,4])>0.5\n",
    "    binary_labels = label_array[binary_index]>2\n",
    "    return np.mean(binary_pred==binary_labels)"
   ]
  },
  {
   "cell_type": "code",
   "execution_count": 16,
   "id": "fccfec67-cb9c-416c-9140-f94ae80136a5",
   "metadata": {},
   "outputs": [
    {
     "data": {
      "text/plain": [
       "0.934825"
      ]
     },
     "execution_count": 16,
     "metadata": {},
     "output_type": "execute_result"
    }
   ],
   "source": [
    "binary_accuracy(np.vstack(model_logits), dataset['test']['label'])"
   ]
  },
  {
   "cell_type": "code",
   "execution_count": 17,
   "id": "ba410ee5-c8ee-4f90-a27d-4a2dbff04ea4",
   "metadata": {},
   "outputs": [],
   "source": [
    "mp = np.hstack(model_predictions)\n",
    "polar_mp = mp.copy()\n",
    "polar_mp[mp>2] = 4\n",
    "polar_mp[mp<2] = 0\n",
    "polar_label = np.array(dataset['test']['label'])\n",
    "polar_label[polar_label>2] = 4\n",
    "polar_label[polar_label<2] = 0"
   ]
  },
  {
   "cell_type": "code",
   "execution_count": 18,
   "id": "5a2d0133-f583-4de4-9584-b0ece99f6b77",
   "metadata": {},
   "outputs": [
    {
     "data": {
      "text/plain": [
       "0.77964"
      ]
     },
     "execution_count": 18,
     "metadata": {},
     "output_type": "execute_result"
    }
   ],
   "source": [
    "np.mean(polar_mp == polar_label)"
   ]
  },
  {
   "cell_type": "code",
   "execution_count": 19,
   "id": "97128d59-67c0-44a7-bef3-6aed5313cb50",
   "metadata": {},
   "outputs": [
    {
     "data": {
      "text/plain": [
       "0.48936"
      ]
     },
     "execution_count": 19,
     "metadata": {},
     "output_type": "execute_result"
    }
   ],
   "source": [
    "np.mean(np.abs(mp-dataset['test']['label']))"
   ]
  },
  {
   "cell_type": "code",
   "execution_count": 20,
   "id": "a5252441-4d96-4d0b-8dff-c3243c6ec4de",
   "metadata": {},
   "outputs": [],
   "source": [
    "import pickle\n",
    "with open('bert_small_from_scratch_accs.pickle', 'wb') as f:\n",
    "    pickle.dump(accs, f)"
   ]
  },
  {
   "cell_type": "code",
   "execution_count": null,
   "id": "5627ec99-4f57-4876-b321-1643de61f3be",
   "metadata": {},
   "outputs": [],
   "source": []
  }
 ],
 "metadata": {
  "kernelspec": {
   "display_name": "Python 3 (ipykernel)",
   "language": "python",
   "name": "python3"
  },
  "language_info": {
   "codemirror_mode": {
    "name": "ipython",
    "version": 3
   },
   "file_extension": ".py",
   "mimetype": "text/x-python",
   "name": "python",
   "nbconvert_exporter": "python",
   "pygments_lexer": "ipython3",
   "version": "3.10.12"
  }
 },
 "nbformat": 4,
 "nbformat_minor": 5
}
