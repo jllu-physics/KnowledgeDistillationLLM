{
 "cells": [
  {
   "cell_type": "code",
   "execution_count": 2,
   "id": "aa09eead-87d7-4499-a875-cc149fb8bb59",
   "metadata": {},
   "outputs": [],
   "source": [
    "from datasets import load_dataset\n",
    "import numpy as np\n",
    "from transformers import AutoTokenizer\n",
    "import format_yelp\n",
    "from torch.utils.data import DataLoader\n",
    "from transformers import AutoModelForSequenceClassification\n",
    "import evaluate\n",
    "from torch.optim import AdamW\n",
    "from transformers import get_scheduler\n",
    "import torch\n",
    "from tqdm.auto import tqdm"
   ]
  },
  {
   "cell_type": "code",
   "execution_count": 3,
   "id": "57c3f5f0-d3a6-436c-a604-5acb3acd3b51",
   "metadata": {},
   "outputs": [],
   "source": [
    "random_seed = 42\n",
    "labelled_size = 10000\n",
    "valid_size = 1000\n",
    "batch_size = 8\n",
    "num_epochs = 20\n",
    "nstep_eval = 100\n",
    "neval_early_stop = 100"
   ]
  },
  {
   "cell_type": "code",
   "execution_count": 4,
   "id": "63049da6-ab63-4559-bf56-5ddfff6bbe86",
   "metadata": {},
   "outputs": [],
   "source": [
    "dataset = load_dataset(\"yelp_review_full\")\n",
    "N = len(dataset['train']['label'])"
   ]
  },
  {
   "cell_type": "code",
   "execution_count": 5,
   "id": "575a66aa-0776-4815-aa06-319f8265860f",
   "metadata": {},
   "outputs": [],
   "source": [
    "tokenizer = AutoTokenizer.from_pretrained(\"bert-base-cased\")"
   ]
  },
  {
   "cell_type": "code",
   "execution_count": 6,
   "id": "a75fe2e3-92b0-42a9-8629-66a3492cc34c",
   "metadata": {},
   "outputs": [],
   "source": [
    "def tokenize_dataset(dataset):\n",
    "    return tokenizer(format_yelp.format_dataset(dataset[\"text\"]), padding=\"max_length\", truncation=True)"
   ]
  },
  {
   "cell_type": "code",
   "execution_count": 7,
   "id": "4bd06f0e-0106-4582-830c-c816558b73b2",
   "metadata": {},
   "outputs": [],
   "source": [
    "def prepare_dataset(dataset):\n",
    "    result = dataset.map(tokenize_dataset, batched = True)\n",
    "    result = result.remove_columns([\"text\"])\n",
    "    result = result.rename_column(\"label\", \"labels\")\n",
    "    result.set_format(\"torch\")\n",
    "    return result"
   ]
  },
  {
   "cell_type": "code",
   "execution_count": 8,
   "id": "8df69fc1-9a58-49ce-b342-f7b82ba2674f",
   "metadata": {},
   "outputs": [],
   "source": [
    "tk_test_dataset = prepare_dataset(dataset['test'])\n",
    "test_dataloader = DataLoader(tk_test_dataset, batch_size=batch_size)"
   ]
  },
  {
   "cell_type": "code",
   "execution_count": 9,
   "id": "b3a55296-c764-4857-af14-30fd64b8478d",
   "metadata": {},
   "outputs": [
    {
     "name": "stderr",
     "output_type": "stream",
     "text": [
      "Some weights of BertForSequenceClassification were not initialized from the model checkpoint at bert-base-cased and are newly initialized: ['classifier.weight', 'classifier.bias']\n",
      "You should probably TRAIN this model on a down-stream task to be able to use it for predictions and inference.\n"
     ]
    }
   ],
   "source": [
    "model = AutoModelForSequenceClassification.from_pretrained(\"bert-base-cased\", num_labels=5)"
   ]
  },
  {
   "cell_type": "code",
   "execution_count": 10,
   "id": "368f0ffe-e57a-4b5d-9759-be4a4d8e5071",
   "metadata": {},
   "outputs": [
    {
     "data": {
      "application/vnd.jupyter.widget-view+json": {
       "model_id": "4d395cab1217426ead79dd3c20b52e29",
       "version_major": 2,
       "version_minor": 0
      },
      "text/plain": [
       "  0%|          | 0/6250 [00:00<?, ?it/s]"
      ]
     },
     "metadata": {},
     "output_type": "display_data"
    }
   ],
   "source": [
    "device = torch.device(\"cuda\") if torch.cuda.is_available() else torch.device(\"cpu\")\n",
    "model.load_state_dict(torch.load('./distill_checkpoint'), strict = True)\n",
    "model.to(device)\n",
    "model.eval()\n",
    "metric = evaluate.load(\"accuracy\")\n",
    "model_predictions = []\n",
    "model_logits = []\n",
    "for batch in tqdm(test_dataloader):\n",
    "    batch = {k: v.to(device) for k, v in batch.items()}\n",
    "    with torch.no_grad():\n",
    "        outputs = model(input_ids = batch['input_ids'], token_type_ids = batch['token_type_ids'], attention_mask = batch['attention_mask'])\n",
    "            \n",
    "        logits = outputs.logits\n",
    "        predictions = torch.argmax(logits, dim=-1)\n",
    "        model_predictions.append(predictions.cpu().numpy())\n",
    "        model_logits.append(logits.cpu().numpy())\n",
    "        metric.add_batch(predictions=predictions, references=batch[\"labels\"])\n",
    "            \n",
    "acc = metric.compute()['accuracy']"
   ]
  },
  {
   "cell_type": "code",
   "execution_count": 11,
   "id": "71abfe08-f7e7-4bab-96d0-64e6b5890bc8",
   "metadata": {},
   "outputs": [
    {
     "data": {
      "text/plain": [
       "0.60012"
      ]
     },
     "execution_count": 11,
     "metadata": {},
     "output_type": "execute_result"
    }
   ],
   "source": [
    "acc"
   ]
  },
  {
   "cell_type": "code",
   "execution_count": 12,
   "id": "82cce348-c78d-4fed-83b2-aa5401cb969b",
   "metadata": {},
   "outputs": [],
   "source": [
    "def binary_accuracy(logits, labels):\n",
    "    label_array = np.array(labels)\n",
    "    binary_index = np.where(label_array != 2)\n",
    "    probs = np.exp(logits[binary_index])\n",
    "    probs[:,2] = 0\n",
    "    probs /= probs.sum(axis=1, keepdims=True)\n",
    "    binary_pred = (probs[:,3] + probs[:,4])>0.5\n",
    "    binary_labels = label_array[binary_index]>2\n",
    "    return np.mean(binary_pred==binary_labels)"
   ]
  },
  {
   "cell_type": "code",
   "execution_count": 13,
   "id": "52789d61-a304-4b1c-a524-3c345ad0e34e",
   "metadata": {},
   "outputs": [
    {
     "data": {
      "text/plain": [
       "0.949375"
      ]
     },
     "execution_count": 13,
     "metadata": {},
     "output_type": "execute_result"
    }
   ],
   "source": [
    "binary_accuracy(np.vstack(model_logits), dataset['test']['label'])"
   ]
  },
  {
   "cell_type": "code",
   "execution_count": 14,
   "id": "e7450935-04a2-420b-8c8b-7d3b02249f7a",
   "metadata": {},
   "outputs": [],
   "source": [
    "mp = np.hstack(model_predictions)\n",
    "polar_mp = mp.copy()\n",
    "polar_mp[mp>2] = 4\n",
    "polar_mp[mp<2] = 0\n",
    "polar_label = np.array(dataset['test']['label'])\n",
    "polar_label[polar_label>2] = 4\n",
    "polar_label[polar_label<2] = 0"
   ]
  },
  {
   "cell_type": "code",
   "execution_count": 15,
   "id": "3a4ece46-e9e8-492c-9060-1c3d49a1d546",
   "metadata": {},
   "outputs": [
    {
     "data": {
      "text/plain": [
       "0.79732"
      ]
     },
     "execution_count": 15,
     "metadata": {},
     "output_type": "execute_result"
    }
   ],
   "source": [
    "np.mean(polar_mp == polar_label)"
   ]
  },
  {
   "cell_type": "code",
   "execution_count": 16,
   "id": "46bef1e5-ca2a-49ef-ab9c-e7ab28d42246",
   "metadata": {},
   "outputs": [
    {
     "data": {
      "text/plain": [
       "0.4501"
      ]
     },
     "execution_count": 16,
     "metadata": {},
     "output_type": "execute_result"
    }
   ],
   "source": [
    "np.mean(np.abs(mp-dataset['test']['label']))"
   ]
  },
  {
   "cell_type": "code",
   "execution_count": null,
   "id": "94f64c4a-5d2f-4cbb-b359-ad3342321868",
   "metadata": {},
   "outputs": [],
   "source": []
  }
 ],
 "metadata": {
  "kernelspec": {
   "display_name": "Python 3 (ipykernel)",
   "language": "python",
   "name": "python3"
  },
  "language_info": {
   "codemirror_mode": {
    "name": "ipython",
    "version": 3
   },
   "file_extension": ".py",
   "mimetype": "text/x-python",
   "name": "python",
   "nbconvert_exporter": "python",
   "pygments_lexer": "ipython3",
   "version": "3.10.12"
  }
 },
 "nbformat": 4,
 "nbformat_minor": 5
}
